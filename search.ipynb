{
 "cells": [
  {
   "cell_type": "code",
   "execution_count": null,
   "metadata": {},
   "outputs": [],
   "source": [
    "import requests\n",
    "from bs4 import BeautifulSoup\n",
    "from urllib.request import urlopen\n"
   ]
  },
  {
   "cell_type": "code",
   "execution_count": null,
   "metadata": {},
   "outputs": [],
   "source": [
    "\n",
    "data = input(\"Enter the product : \")\n",
    "amazon_url = f\"https://www.amazon.in/s?k={data}\"\n",
    "amazon_page = urlopen(amazon_url)\n",
    "urlclient = amazon_page.read()\n",
    "amazon_html = BeautifulSoup(urlclient,\"html.parser\")\n",
    "amazon_product = amazon_html.find_all(\"div\",{\"class\" : \"sg-col-20-of-24 s-result-item s-asin sg-col-0-of-12 sg-col-16-of-20 sg-col s-widget-spacing-small sg-col-12-of-16\"})\n",
    "\n"
   ]
  },
  {
   "cell_type": "code",
   "execution_count": null,
   "metadata": {},
   "outputs": [],
   "source": [
    "for product in amazon_product :   \n",
    "    print(amazon_url + product.a['href'])"
   ]
  }
 ],
 "metadata": {
  "language_info": {
   "name": "python"
  }
 },
 "nbformat": 4,
 "nbformat_minor": 2
}
